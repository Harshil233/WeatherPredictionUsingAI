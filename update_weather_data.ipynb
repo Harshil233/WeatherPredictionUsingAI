{
 "cells": [
  {
   "cell_type": "code",
   "execution_count": 2,
   "id": "1db66c95-fe6f-4b5c-846c-66da9ea85675",
   "metadata": {},
   "outputs": [],
   "source": [
    "import pandas as pd\n",
    "\n",
    "import requests\n",
    "\n",
    "from datetime import datetime\n",
    "\n",
    "# Load the weather data from the CSV file\n",
    "\n",
    "weather_data = pd.read_csv('weather.csv', index_col=0)\n",
    "\n",
    "# Define a function to update the weather data with the current weather data \n",
    "def update_weather_data(api_key, city_id):\n",
    "    # Build the URL for the current weather data API call\n",
    "    url= f'https://api.openweathermap.org/data/2.5/weather?q=Ashta,Madhya%20Pradesh,IN&units=metric&appid=365a3b534a3f815cbef5dcb8be3491ba'\n",
    "\n",
    "    # Make the API call to get the current weather data \n",
    "    response = requests.get(url)\n",
    "\n",
    "    # Extract the relevant data from the API response\n",
    "\n",
    "    data = response.json()\n",
    "\n",
    "    tmax = data['main']['temp_max']\n",
    "\n",
    "    tmin = data['main']['temp_min']\n",
    "\n",
    "    prcp = data['rain']['1h'] if 'rain' in data else 0.0\n",
    "\n",
    "    # Add the current weather data to the weather dataset \n",
    "    date = datetime.now().strftime('%Y-%m-%d') \n",
    "    weather_data.loc[date] = [tmax, tmin, prcp]\n",
    "\n",
    "    # Save the updated weather data to the CSV file \n",
    "    weather_data.to_csv('weather.csv')\n",
    "\n",
    "# Call the function to update the weather data\n",
    "\n",
    "api_key ='365a3b534a3f815cbef5dcb8be3491ba'\n",
    "\n",
    "city_id = '1278211'\n",
    "\n",
    "update_weather_data(api_key, city_id)"
   ]
  },
  {
   "cell_type": "code",
   "execution_count": null,
   "id": "224fe721-0f9f-49c3-aa29-7c7b8ded8b4e",
   "metadata": {},
   "outputs": [],
   "source": []
  },
  {
   "cell_type": "code",
   "execution_count": null,
   "id": "4248940a-3958-48d5-82a1-213ca0d30a93",
   "metadata": {},
   "outputs": [],
   "source": []
  },
  {
   "cell_type": "code",
   "execution_count": null,
   "id": "632ff5bb-55c0-4c4f-bc0b-522cc0814637",
   "metadata": {},
   "outputs": [],
   "source": []
  },
  {
   "cell_type": "code",
   "execution_count": null,
   "id": "cf3e68cd-e704-4d4f-ac0b-a27df13886d6",
   "metadata": {},
   "outputs": [],
   "source": []
  },
  {
   "cell_type": "code",
   "execution_count": null,
   "id": "187fa99f-efb8-4d05-8c96-ec7ead205a38",
   "metadata": {},
   "outputs": [],
   "source": [
    "\n"
   ]
  },
  {
   "cell_type": "code",
   "execution_count": null,
   "id": "48240982-543a-4797-84b8-6808c375ddc2",
   "metadata": {},
   "outputs": [],
   "source": []
  }
 ],
 "metadata": {
  "kernelspec": {
   "display_name": "Python 3 (ipykernel)",
   "language": "python",
   "name": "python3"
  },
  "language_info": {
   "codemirror_mode": {
    "name": "ipython",
    "version": 3
   },
   "file_extension": ".py",
   "mimetype": "text/x-python",
   "name": "python",
   "nbconvert_exporter": "python",
   "pygments_lexer": "ipython3",
   "version": "3.11.1"
  }
 },
 "nbformat": 4,
 "nbformat_minor": 5
}
