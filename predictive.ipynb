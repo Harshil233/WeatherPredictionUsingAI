{
 "cells": [
  {
   "cell_type": "code",
   "execution_count": 1,
   "id": "a001c548",
   "metadata": {},
   "outputs": [],
   "source": [
    "import pandas as pd\n",
    "weather = pd.read_csv(\"weather.csv\", index_col=\"DATE\")\n"
   ]
  },
  {
   "cell_type": "code",
   "execution_count": 2,
   "id": "a6b82fd8-082f-454d-b8b2-d724aa93fa27",
   "metadata": {},
   "outputs": [
    {
     "data": {
      "text/html": [
       "<div>\n",
       "<style scoped>\n",
       "    .dataframe tbody tr th:only-of-type {\n",
       "        vertical-align: middle;\n",
       "    }\n",
       "\n",
       "    .dataframe tbody tr th {\n",
       "        vertical-align: top;\n",
       "    }\n",
       "\n",
       "    .dataframe thead th {\n",
       "        text-align: right;\n",
       "    }\n",
       "</style>\n",
       "<table border=\"1\" class=\"dataframe\">\n",
       "  <thead>\n",
       "    <tr style=\"text-align: right;\">\n",
       "      <th></th>\n",
       "      <th>TMAX</th>\n",
       "      <th>TMIN</th>\n",
       "      <th>PRCP</th>\n",
       "    </tr>\n",
       "    <tr>\n",
       "      <th>DATE</th>\n",
       "      <th></th>\n",
       "      <th></th>\n",
       "      <th></th>\n",
       "    </tr>\n",
       "  </thead>\n",
       "  <tbody>\n",
       "    <tr>\n",
       "      <th>01-02-1981</th>\n",
       "      <td>27.11</td>\n",
       "      <td>9.76</td>\n",
       "      <td>0.0</td>\n",
       "    </tr>\n",
       "    <tr>\n",
       "      <th>02-02-1981</th>\n",
       "      <td>26.15</td>\n",
       "      <td>7.58</td>\n",
       "      <td>0.0</td>\n",
       "    </tr>\n",
       "    <tr>\n",
       "      <th>03-02-1981</th>\n",
       "      <td>29.38</td>\n",
       "      <td>7.83</td>\n",
       "      <td>0.0</td>\n",
       "    </tr>\n",
       "    <tr>\n",
       "      <th>04-02-1981</th>\n",
       "      <td>32.19</td>\n",
       "      <td>9.40</td>\n",
       "      <td>0.0</td>\n",
       "    </tr>\n",
       "    <tr>\n",
       "      <th>05-02-1981</th>\n",
       "      <td>32.01</td>\n",
       "      <td>14.85</td>\n",
       "      <td>0.0</td>\n",
       "    </tr>\n",
       "    <tr>\n",
       "      <th>...</th>\n",
       "      <td>...</td>\n",
       "      <td>...</td>\n",
       "      <td>...</td>\n",
       "    </tr>\n",
       "    <tr>\n",
       "      <th>16-02-2023</th>\n",
       "      <td>31.00</td>\n",
       "      <td>12.00</td>\n",
       "      <td>0.0</td>\n",
       "    </tr>\n",
       "    <tr>\n",
       "      <th>17-02-2023</th>\n",
       "      <td>31.00</td>\n",
       "      <td>14.00</td>\n",
       "      <td>0.0</td>\n",
       "    </tr>\n",
       "    <tr>\n",
       "      <th>18-02-2023</th>\n",
       "      <td>30.00</td>\n",
       "      <td>13.00</td>\n",
       "      <td>0.0</td>\n",
       "    </tr>\n",
       "    <tr>\n",
       "      <th>19-02-2023</th>\n",
       "      <td>33.00</td>\n",
       "      <td>13.00</td>\n",
       "      <td>0.0</td>\n",
       "    </tr>\n",
       "    <tr>\n",
       "      <th>20-02-2023</th>\n",
       "      <td>37.00</td>\n",
       "      <td>17.00</td>\n",
       "      <td>0.0</td>\n",
       "    </tr>\n",
       "  </tbody>\n",
       "</table>\n",
       "<p>15360 rows × 3 columns</p>\n",
       "</div>"
      ],
      "text/plain": [
       "             TMAX   TMIN  PRCP\n",
       "DATE                          \n",
       "01-02-1981  27.11   9.76   0.0\n",
       "02-02-1981  26.15   7.58   0.0\n",
       "03-02-1981  29.38   7.83   0.0\n",
       "04-02-1981  32.19   9.40   0.0\n",
       "05-02-1981  32.01  14.85   0.0\n",
       "...           ...    ...   ...\n",
       "16-02-2023  31.00  12.00   0.0\n",
       "17-02-2023  31.00  14.00   0.0\n",
       "18-02-2023  30.00  13.00   0.0\n",
       "19-02-2023  33.00  13.00   0.0\n",
       "20-02-2023  37.00  17.00   0.0\n",
       "\n",
       "[15360 rows x 3 columns]"
      ]
     },
     "execution_count": 2,
     "metadata": {},
     "output_type": "execute_result"
    }
   ],
   "source": [
    "weather\n"
   ]
  },
  {
   "cell_type": "code",
   "execution_count": 3,
   "id": "e8d14cf6-372b-4829-8ea6-88d9719064f8",
   "metadata": {},
   "outputs": [],
   "source": [
    "null_pct = weather.apply(pd.isnull).sum()/weather.shape[0]\n",
    "                         "
   ]
  },
  {
   "cell_type": "code",
   "execution_count": 4,
   "id": "4ee7788a-b67c-4735-b58d-3726d597b8b0",
   "metadata": {},
   "outputs": [
    {
     "data": {
      "text/plain": [
       "TMAX    0.0\n",
       "TMIN    0.0\n",
       "PRCP    0.0\n",
       "dtype: float64"
      ]
     },
     "execution_count": 4,
     "metadata": {},
     "output_type": "execute_result"
    }
   ],
   "source": [
    "null_pct\n"
   ]
  },
  {
   "cell_type": "code",
   "execution_count": 5,
   "id": "2f3f227b-b882-4123-bb28-0d06b4619e8c",
   "metadata": {},
   "outputs": [],
   "source": [
    "weather.columns = weather.columns.str.lower()"
   ]
  },
  {
   "cell_type": "code",
   "execution_count": 6,
   "id": "652d93ee-1a78-4417-acaf-405cf7c769a6",
   "metadata": {},
   "outputs": [
    {
     "data": {
      "text/html": [
       "<div>\n",
       "<style scoped>\n",
       "    .dataframe tbody tr th:only-of-type {\n",
       "        vertical-align: middle;\n",
       "    }\n",
       "\n",
       "    .dataframe tbody tr th {\n",
       "        vertical-align: top;\n",
       "    }\n",
       "\n",
       "    .dataframe thead th {\n",
       "        text-align: right;\n",
       "    }\n",
       "</style>\n",
       "<table border=\"1\" class=\"dataframe\">\n",
       "  <thead>\n",
       "    <tr style=\"text-align: right;\">\n",
       "      <th></th>\n",
       "      <th>tmax</th>\n",
       "      <th>tmin</th>\n",
       "      <th>prcp</th>\n",
       "    </tr>\n",
       "    <tr>\n",
       "      <th>DATE</th>\n",
       "      <th></th>\n",
       "      <th></th>\n",
       "      <th></th>\n",
       "    </tr>\n",
       "  </thead>\n",
       "  <tbody>\n",
       "    <tr>\n",
       "      <th>01-02-1981</th>\n",
       "      <td>27.11</td>\n",
       "      <td>9.76</td>\n",
       "      <td>0.0</td>\n",
       "    </tr>\n",
       "    <tr>\n",
       "      <th>02-02-1981</th>\n",
       "      <td>26.15</td>\n",
       "      <td>7.58</td>\n",
       "      <td>0.0</td>\n",
       "    </tr>\n",
       "    <tr>\n",
       "      <th>03-02-1981</th>\n",
       "      <td>29.38</td>\n",
       "      <td>7.83</td>\n",
       "      <td>0.0</td>\n",
       "    </tr>\n",
       "    <tr>\n",
       "      <th>04-02-1981</th>\n",
       "      <td>32.19</td>\n",
       "      <td>9.40</td>\n",
       "      <td>0.0</td>\n",
       "    </tr>\n",
       "    <tr>\n",
       "      <th>05-02-1981</th>\n",
       "      <td>32.01</td>\n",
       "      <td>14.85</td>\n",
       "      <td>0.0</td>\n",
       "    </tr>\n",
       "    <tr>\n",
       "      <th>...</th>\n",
       "      <td>...</td>\n",
       "      <td>...</td>\n",
       "      <td>...</td>\n",
       "    </tr>\n",
       "    <tr>\n",
       "      <th>16-02-2023</th>\n",
       "      <td>31.00</td>\n",
       "      <td>12.00</td>\n",
       "      <td>0.0</td>\n",
       "    </tr>\n",
       "    <tr>\n",
       "      <th>17-02-2023</th>\n",
       "      <td>31.00</td>\n",
       "      <td>14.00</td>\n",
       "      <td>0.0</td>\n",
       "    </tr>\n",
       "    <tr>\n",
       "      <th>18-02-2023</th>\n",
       "      <td>30.00</td>\n",
       "      <td>13.00</td>\n",
       "      <td>0.0</td>\n",
       "    </tr>\n",
       "    <tr>\n",
       "      <th>19-02-2023</th>\n",
       "      <td>33.00</td>\n",
       "      <td>13.00</td>\n",
       "      <td>0.0</td>\n",
       "    </tr>\n",
       "    <tr>\n",
       "      <th>20-02-2023</th>\n",
       "      <td>37.00</td>\n",
       "      <td>17.00</td>\n",
       "      <td>0.0</td>\n",
       "    </tr>\n",
       "  </tbody>\n",
       "</table>\n",
       "<p>15360 rows × 3 columns</p>\n",
       "</div>"
      ],
      "text/plain": [
       "             tmax   tmin  prcp\n",
       "DATE                          \n",
       "01-02-1981  27.11   9.76   0.0\n",
       "02-02-1981  26.15   7.58   0.0\n",
       "03-02-1981  29.38   7.83   0.0\n",
       "04-02-1981  32.19   9.40   0.0\n",
       "05-02-1981  32.01  14.85   0.0\n",
       "...           ...    ...   ...\n",
       "16-02-2023  31.00  12.00   0.0\n",
       "17-02-2023  31.00  14.00   0.0\n",
       "18-02-2023  30.00  13.00   0.0\n",
       "19-02-2023  33.00  13.00   0.0\n",
       "20-02-2023  37.00  17.00   0.0\n",
       "\n",
       "[15360 rows x 3 columns]"
      ]
     },
     "execution_count": 6,
     "metadata": {},
     "output_type": "execute_result"
    }
   ],
   "source": [
    "weather"
   ]
  },
  {
   "cell_type": "code",
   "execution_count": 7,
   "id": "1de18cd2-c74f-4b54-829f-fdc6b7087647",
   "metadata": {},
   "outputs": [
    {
     "data": {
      "text/plain": [
       "Index(['01-02-1981', '02-02-1981', '03-02-1981', '04-02-1981', '05-02-1981',\n",
       "       '06-02-1981', '07-02-1981', '08-02-1981', '09-02-1981', '10-02-1981',\n",
       "       ...\n",
       "       '11-02-2023', '12-02-2023', '13-02-2023', '14-02-2023', '15-02-2023',\n",
       "       '16-02-2023', '17-02-2023', '18-02-2023', '19-02-2023', '20-02-2023'],\n",
       "      dtype='object', name='DATE', length=15360)"
      ]
     },
     "execution_count": 7,
     "metadata": {},
     "output_type": "execute_result"
    }
   ],
   "source": [
    "weather.index\n"
   ]
  },
  {
   "cell_type": "code",
   "execution_count": 8,
   "id": "b6174ccc-3d7c-4284-981c-e28397fc3f09",
   "metadata": {},
   "outputs": [
    {
     "name": "stderr",
     "output_type": "stream",
     "text": [
      "C:\\Users\\Shiksha\\AppData\\Local\\Temp\\ipykernel_16116\\3965993623.py:1: UserWarning: Parsing dates in DD/MM/YYYY format when dayfirst=False (the default) was specified. This may lead to inconsistently parsed dates! Specify a format to ensure consistent parsing.\n",
      "  weather.index = pd.to_datetime(weather.index)\n"
     ]
    }
   ],
   "source": [
    "weather.index = pd.to_datetime(weather.index)"
   ]
  },
  {
   "cell_type": "code",
   "execution_count": 9,
   "id": "8d36e37e-c332-4bd1-b57f-544311089b3f",
   "metadata": {},
   "outputs": [
    {
     "data": {
      "text/plain": [
       "DatetimeIndex(['1981-01-02', '1981-02-02', '1981-03-02', '1981-04-02',\n",
       "               '1981-05-02', '1981-06-02', '1981-07-02', '1981-08-02',\n",
       "               '1981-09-02', '1981-10-02',\n",
       "               ...\n",
       "               '2023-11-02', '2023-12-02', '2023-02-13', '2023-02-14',\n",
       "               '2023-02-15', '2023-02-16', '2023-02-17', '2023-02-18',\n",
       "               '2023-02-19', '2023-02-20'],\n",
       "              dtype='datetime64[ns]', name='DATE', length=15360, freq=None)"
      ]
     },
     "execution_count": 9,
     "metadata": {},
     "output_type": "execute_result"
    }
   ],
   "source": [
    "weather.index\n"
   ]
  },
  {
   "cell_type": "code",
   "execution_count": 10,
   "id": "bd3617ac-9000-43d3-ba62-2ece66932d92",
   "metadata": {},
   "outputs": [
    {
     "data": {
      "text/plain": [
       "Int64Index([1981, 1981, 1981, 1981, 1981, 1981, 1981, 1981, 1981, 1981,\n",
       "            ...\n",
       "            2023, 2023, 2023, 2023, 2023, 2023, 2023, 2023, 2023, 2023],\n",
       "           dtype='int64', name='DATE', length=15360)"
      ]
     },
     "execution_count": 10,
     "metadata": {},
     "output_type": "execute_result"
    }
   ],
   "source": [
    "weather.index.year"
   ]
  },
  {
   "cell_type": "code",
   "execution_count": 11,
   "id": "d773c8f7-6f47-4450-a44c-65306ff23b8d",
   "metadata": {},
   "outputs": [
    {
     "data": {
      "text/plain": [
       "<AxesSubplot: xlabel='DATE'>"
      ]
     },
     "execution_count": 11,
     "metadata": {},
     "output_type": "execute_result"
    },
    {
     "data": {
      "image/png": "[encoded data removed]",
      "text/plain": [
       "<Figure size 640x480 with 1 Axes>"
      ]
     },
     "metadata": {},
     "output_type": "display_data"
    }
   ],
   "source": [
    "weather[\"tmax\"].plot()"
   ]
  },
  {
   "cell_type": "code",
   "execution_count": 12,
   "id": "32d9107d-f121-49f1-9e46-6498dbb7af10",
   "metadata": {},
   "outputs": [
    {
     "data": {
      "text/plain": [
       "<AxesSubplot: xlabel='DATE'>"
      ]
     },
     "execution_count": 12,
     "metadata": {},
     "output_type": "execute_result"
    },
    {
     "data": {
      "image/png": "[encoded data removed]",
      "text/plain": [
       "<Figure size 640x480 with 1 Axes>"
      ]
     },
     "metadata": {},
     "output_type": "display_data"
    }
   ],
   "source": [
    "weather[\"tmax\"].plot()"
   ]
  },
  {
   "cell_type": "code",
   "execution_count": 13,
   "id": "ac998b25-a848-4d18-9300-0ffc670fccf4",
   "metadata": {},
   "outputs": [
    {
     "data": {
      "text/html": [
       "<div>\n",
       "<style scoped>\n",
       "    .dataframe tbody tr th:only-of-type {\n",
       "        vertical-align: middle;\n",
       "    }\n",
       "\n",
       "    .dataframe tbody tr th {\n",
       "        vertical-align: top;\n",
       "    }\n",
       "\n",
       "    .dataframe thead th {\n",
       "        text-align: right;\n",
       "    }\n",
       "</style>\n",
       "<table border=\"1\" class=\"dataframe\">\n",
       "  <thead>\n",
       "    <tr style=\"text-align: right;\">\n",
       "      <th></th>\n",
       "      <th>tmax</th>\n",
       "      <th>tmin</th>\n",
       "      <th>prcp</th>\n",
       "    </tr>\n",
       "    <tr>\n",
       "      <th>DATE</th>\n",
       "      <th></th>\n",
       "      <th></th>\n",
       "      <th></th>\n",
       "    </tr>\n",
       "  </thead>\n",
       "  <tbody>\n",
       "    <tr>\n",
       "      <th>1981-01-02</th>\n",
       "      <td>27.11</td>\n",
       "      <td>9.76</td>\n",
       "      <td>0.0</td>\n",
       "    </tr>\n",
       "    <tr>\n",
       "      <th>1981-02-02</th>\n",
       "      <td>26.15</td>\n",
       "      <td>7.58</td>\n",
       "      <td>0.0</td>\n",
       "    </tr>\n",
       "    <tr>\n",
       "      <th>1981-03-02</th>\n",
       "      <td>29.38</td>\n",
       "      <td>7.83</td>\n",
       "      <td>0.0</td>\n",
       "    </tr>\n",
       "    <tr>\n",
       "      <th>1981-04-02</th>\n",
       "      <td>32.19</td>\n",
       "      <td>9.40</td>\n",
       "      <td>0.0</td>\n",
       "    </tr>\n",
       "    <tr>\n",
       "      <th>1981-05-02</th>\n",
       "      <td>32.01</td>\n",
       "      <td>14.85</td>\n",
       "      <td>0.0</td>\n",
       "    </tr>\n",
       "    <tr>\n",
       "      <th>...</th>\n",
       "      <td>...</td>\n",
       "      <td>...</td>\n",
       "      <td>...</td>\n",
       "    </tr>\n",
       "    <tr>\n",
       "      <th>2023-02-16</th>\n",
       "      <td>31.00</td>\n",
       "      <td>12.00</td>\n",
       "      <td>0.0</td>\n",
       "    </tr>\n",
       "    <tr>\n",
       "      <th>2023-02-17</th>\n",
       "      <td>31.00</td>\n",
       "      <td>14.00</td>\n",
       "      <td>0.0</td>\n",
       "    </tr>\n",
       "    <tr>\n",
       "      <th>2023-02-18</th>\n",
       "      <td>30.00</td>\n",
       "      <td>13.00</td>\n",
       "      <td>0.0</td>\n",
       "    </tr>\n",
       "    <tr>\n",
       "      <th>2023-02-19</th>\n",
       "      <td>33.00</td>\n",
       "      <td>13.00</td>\n",
       "      <td>0.0</td>\n",
       "    </tr>\n",
       "    <tr>\n",
       "      <th>2023-02-20</th>\n",
       "      <td>37.00</td>\n",
       "      <td>17.00</td>\n",
       "      <td>0.0</td>\n",
       "    </tr>\n",
       "  </tbody>\n",
       "</table>\n",
       "<p>15360 rows × 3 columns</p>\n",
       "</div>"
      ],
      "text/plain": [
       "             tmax   tmin  prcp\n",
       "DATE                          \n",
       "1981-01-02  27.11   9.76   0.0\n",
       "1981-02-02  26.15   7.58   0.0\n",
       "1981-03-02  29.38   7.83   0.0\n",
       "1981-04-02  32.19   9.40   0.0\n",
       "1981-05-02  32.01  14.85   0.0\n",
       "...           ...    ...   ...\n",
       "2023-02-16  31.00  12.00   0.0\n",
       "2023-02-17  31.00  14.00   0.0\n",
       "2023-02-18  30.00  13.00   0.0\n",
       "2023-02-19  33.00  13.00   0.0\n",
       "2023-02-20  37.00  17.00   0.0\n",
       "\n",
       "[15360 rows x 3 columns]"
      ]
     },
     "execution_count": 13,
     "metadata": {},
     "output_type": "execute_result"
    }
   ],
   "source": [
    "weather"
   ]
  },
  {
   "cell_type": "code",
   "execution_count": 14,
   "id": "73b04fa5-6b70-4539-837e-cce2d6f74047",
   "metadata": {},
   "outputs": [],
   "source": [
    "import pandas as pd\n",
    "weather = pd.read_csv(\"weather.csv\", index_col=\"DATE\")\n"
   ]
  },
  {
   "cell_type": "code",
   "execution_count": 15,
   "id": "04938d8f-4701-47d4-8e65-e56027f9af0a",
   "metadata": {},
   "outputs": [
    {
     "data": {
      "text/html": [
       "<div>\n",
       "<style scoped>\n",
       "    .dataframe tbody tr th:only-of-type {\n",
       "        vertical-align: middle;\n",
       "    }\n",
       "\n",
       "    .dataframe tbody tr th {\n",
       "        vertical-align: top;\n",
       "    }\n",
       "\n",
       "    .dataframe thead th {\n",
       "        text-align: right;\n",
       "    }\n",
       "</style>\n",
       "<table border=\"1\" class=\"dataframe\">\n",
       "  <thead>\n",
       "    <tr style=\"text-align: right;\">\n",
       "      <th></th>\n",
       "      <th>TMAX</th>\n",
       "      <th>TMIN</th>\n",
       "      <th>PRCP</th>\n",
       "    </tr>\n",
       "    <tr>\n",
       "      <th>DATE</th>\n",
       "      <th></th>\n",
       "      <th></th>\n",
       "      <th></th>\n",
       "    </tr>\n",
       "  </thead>\n",
       "  <tbody>\n",
       "    <tr>\n",
       "      <th>01-02-1981</th>\n",
       "      <td>27.11</td>\n",
       "      <td>9.76</td>\n",
       "      <td>0.0</td>\n",
       "    </tr>\n",
       "    <tr>\n",
       "      <th>02-02-1981</th>\n",
       "      <td>26.15</td>\n",
       "      <td>7.58</td>\n",
       "      <td>0.0</td>\n",
       "    </tr>\n",
       "    <tr>\n",
       "      <th>03-02-1981</th>\n",
       "      <td>29.38</td>\n",
       "      <td>7.83</td>\n",
       "      <td>0.0</td>\n",
       "    </tr>\n",
       "    <tr>\n",
       "      <th>04-02-1981</th>\n",
       "      <td>32.19</td>\n",
       "      <td>9.40</td>\n",
       "      <td>0.0</td>\n",
       "    </tr>\n",
       "    <tr>\n",
       "      <th>05-02-1981</th>\n",
       "      <td>32.01</td>\n",
       "      <td>14.85</td>\n",
       "      <td>0.0</td>\n",
       "    </tr>\n",
       "    <tr>\n",
       "      <th>...</th>\n",
       "      <td>...</td>\n",
       "      <td>...</td>\n",
       "      <td>...</td>\n",
       "    </tr>\n",
       "    <tr>\n",
       "      <th>16-02-2023</th>\n",
       "      <td>31.00</td>\n",
       "      <td>12.00</td>\n",
       "      <td>0.0</td>\n",
       "    </tr>\n",
       "    <tr>\n",
       "      <th>17-02-2023</th>\n",
       "      <td>31.00</td>\n",
       "      <td>14.00</td>\n",
       "      <td>0.0</td>\n",
       "    </tr>\n",
       "    <tr>\n",
       "      <th>18-02-2023</th>\n",
       "      <td>30.00</td>\n",
       "      <td>13.00</td>\n",
       "      <td>0.0</td>\n",
       "    </tr>\n",
       "    <tr>\n",
       "      <th>19-02-2023</th>\n",
       "      <td>33.00</td>\n",
       "      <td>13.00</td>\n",
       "      <td>0.0</td>\n",
       "    </tr>\n",
       "    <tr>\n",
       "      <th>20-02-2023</th>\n",
       "      <td>37.00</td>\n",
       "      <td>17.00</td>\n",
       "      <td>0.0</td>\n",
       "    </tr>\n",
       "  </tbody>\n",
       "</table>\n",
       "<p>15360 rows × 3 columns</p>\n",
       "</div>"
      ],
      "text/plain": [
       "             TMAX   TMIN  PRCP\n",
       "DATE                          \n",
       "01-02-1981  27.11   9.76   0.0\n",
       "02-02-1981  26.15   7.58   0.0\n",
       "03-02-1981  29.38   7.83   0.0\n",
       "04-02-1981  32.19   9.40   0.0\n",
       "05-02-1981  32.01  14.85   0.0\n",
       "...           ...    ...   ...\n",
       "16-02-2023  31.00  12.00   0.0\n",
       "17-02-2023  31.00  14.00   0.0\n",
       "18-02-2023  30.00  13.00   0.0\n",
       "19-02-2023  33.00  13.00   0.0\n",
       "20-02-2023  37.00  17.00   0.0\n",
       "\n",
       "[15360 rows x 3 columns]"
      ]
     },
     "execution_count": 15,
     "metadata": {},
     "output_type": "execute_result"
    }
   ],
   "source": [
    "weather"
   ]
  },
  {
   "cell_type": "code",
   "execution_count": 16,
   "id": "1b8431a1-705f-4b4c-a46f-440be9dd113d",
   "metadata": {},
   "outputs": [],
   "source": [
    "weather.columns = weather.columns.str.lower()"
   ]
  },
  {
   "cell_type": "code",
   "execution_count": 17,
   "id": "4b756849-9cb5-4827-9e45-969864953f53",
   "metadata": {},
   "outputs": [
    {
     "data": {
      "text/plain": [
       "Index(['01-02-1981', '02-02-1981', '03-02-1981', '04-02-1981', '05-02-1981',\n",
       "       '06-02-1981', '07-02-1981', '08-02-1981', '09-02-1981', '10-02-1981',\n",
       "       ...\n",
       "       '11-02-2023', '12-02-2023', '13-02-2023', '14-02-2023', '15-02-2023',\n",
       "       '16-02-2023', '17-02-2023', '18-02-2023', '19-02-2023', '20-02-2023'],\n",
       "      dtype='object', name='DATE', length=15360)"
      ]
     },
     "execution_count": 17,
     "metadata": {},
     "output_type": "execute_result"
    }
   ],
   "source": [
    "weather.index"
   ]
  },
  {
   "cell_type": "code",
   "execution_count": 18,
   "id": "1a1032e8-4b4f-4db3-a1e5-cd620407dac6",
   "metadata": {},
   "outputs": [
    {
     "name": "stderr",
     "output_type": "stream",
     "text": [
      "C:\\Users\\Shiksha\\AppData\\Local\\Temp\\ipykernel_16116\\3965993623.py:1: UserWarning: Parsing dates in DD/MM/YYYY format when dayfirst=False (the default) was specified. This may lead to inconsistently parsed dates! Specify a format to ensure consistent parsing.\n",
      "  weather.index = pd.to_datetime(weather.index)\n"
     ]
    }
   ],
   "source": [
    "weather.index = pd.to_datetime(weather.index)"
   ]
  },
  {
   "cell_type": "code",
   "execution_count": 19,
   "id": "04a79aa6-e2b6-49b3-b62a-c22e7b218e5f",
   "metadata": {},
   "outputs": [
    {
     "data": {
      "text/plain": [
       "DatetimeIndex(['1981-01-02', '1981-02-02', '1981-03-02', '1981-04-02',\n",
       "               '1981-05-02', '1981-06-02', '1981-07-02', '1981-08-02',\n",
       "               '1981-09-02', '1981-10-02',\n",
       "               ...\n",
       "               '2023-11-02', '2023-12-02', '2023-02-13', '2023-02-14',\n",
       "               '2023-02-15', '2023-02-16', '2023-02-17', '2023-02-18',\n",
       "               '2023-02-19', '2023-02-20'],\n",
       "              dtype='datetime64[ns]', name='DATE', length=15360, freq=None)"
      ]
     },
     "execution_count": 19,
     "metadata": {},
     "output_type": "execute_result"
    }
   ],
   "source": [
    "weather.index"
   ]
  },
  {
   "cell_type": "code",
   "execution_count": 20,
   "id": "69763ea0-adf8-4600-bb51-e8063b56f65d",
   "metadata": {},
   "outputs": [
    {
     "data": {
      "text/plain": [
       "<AxesSubplot: xlabel='DATE'>"
      ]
     },
     "execution_count": 20,
     "metadata": {},
     "output_type": "execute_result"
    },
    {
     "data": {
      "image/png": "[encoded data removed]",
      "text/plain": [
       "<Figure size 640x480 with 1 Axes>"
      ]
     },
     "metadata": {},
     "output_type": "display_data"
    }
   ],
   "source": [
    "weather[\"tmax\"].plot()"
   ]
  },
  {
   "cell_type": "code",
   "execution_count": 21,
   "id": "e9d86c0c-7ec4-45c5-ba83-cf29952e383f",
   "metadata": {},
   "outputs": [
    {
     "data": {
      "text/plain": [
       "<AxesSubplot: xlabel='DATE'>"
      ]
     },
     "execution_count": 21,
     "metadata": {},
     "output_type": "execute_result"
    },
    {
     "data": {
      "image/png": "[encoded data removed]",
      "text/plain": [
       "<Figure size 640x480 with 1 Axes>"
      ]
     },
     "metadata": {},
     "output_type": "display_data"
    }
   ],
   "source": [
    "weather[\"prcp\"].plot()"
   ]
  },
  {
   "cell_type": "code",
   "execution_count": 22,
   "id": "318862c4-5817-403a-8c88-5fa97bcf5cfb",
   "metadata": {},
   "outputs": [
    {
     "data": {
      "text/html": [
       "<div>\n",
       "<style scoped>\n",
       "    .dataframe tbody tr th:only-of-type {\n",
       "        vertical-align: middle;\n",
       "    }\n",
       "\n",
       "    .dataframe tbody tr th {\n",
       "        vertical-align: top;\n",
       "    }\n",
       "\n",
       "    .dataframe thead th {\n",
       "        text-align: right;\n",
       "    }\n",
       "</style>\n",
       "<table border=\"1\" class=\"dataframe\">\n",
       "  <thead>\n",
       "    <tr style=\"text-align: right;\">\n",
       "      <th></th>\n",
       "      <th>tmax</th>\n",
       "      <th>tmin</th>\n",
       "      <th>prcp</th>\n",
       "    </tr>\n",
       "    <tr>\n",
       "      <th>DATE</th>\n",
       "      <th></th>\n",
       "      <th></th>\n",
       "      <th></th>\n",
       "    </tr>\n",
       "  </thead>\n",
       "  <tbody>\n",
       "    <tr>\n",
       "      <th>1981-01-02</th>\n",
       "      <td>27.11</td>\n",
       "      <td>9.76</td>\n",
       "      <td>0.0</td>\n",
       "    </tr>\n",
       "    <tr>\n",
       "      <th>1981-02-02</th>\n",
       "      <td>26.15</td>\n",
       "      <td>7.58</td>\n",
       "      <td>0.0</td>\n",
       "    </tr>\n",
       "    <tr>\n",
       "      <th>1981-03-02</th>\n",
       "      <td>29.38</td>\n",
       "      <td>7.83</td>\n",
       "      <td>0.0</td>\n",
       "    </tr>\n",
       "    <tr>\n",
       "      <th>1981-04-02</th>\n",
       "      <td>32.19</td>\n",
       "      <td>9.40</td>\n",
       "      <td>0.0</td>\n",
       "    </tr>\n",
       "    <tr>\n",
       "      <th>1981-05-02</th>\n",
       "      <td>32.01</td>\n",
       "      <td>14.85</td>\n",
       "      <td>0.0</td>\n",
       "    </tr>\n",
       "    <tr>\n",
       "      <th>...</th>\n",
       "      <td>...</td>\n",
       "      <td>...</td>\n",
       "      <td>...</td>\n",
       "    </tr>\n",
       "    <tr>\n",
       "      <th>2023-02-16</th>\n",
       "      <td>31.00</td>\n",
       "      <td>12.00</td>\n",
       "      <td>0.0</td>\n",
       "    </tr>\n",
       "    <tr>\n",
       "      <th>2023-02-17</th>\n",
       "      <td>31.00</td>\n",
       "      <td>14.00</td>\n",
       "      <td>0.0</td>\n",
       "    </tr>\n",
       "    <tr>\n",
       "      <th>2023-02-18</th>\n",
       "      <td>30.00</td>\n",
       "      <td>13.00</td>\n",
       "      <td>0.0</td>\n",
       "    </tr>\n",
       "    <tr>\n",
       "      <th>2023-02-19</th>\n",
       "      <td>33.00</td>\n",
       "      <td>13.00</td>\n",
       "      <td>0.0</td>\n",
       "    </tr>\n",
       "    <tr>\n",
       "      <th>2023-02-20</th>\n",
       "      <td>37.00</td>\n",
       "      <td>17.00</td>\n",
       "      <td>0.0</td>\n",
       "    </tr>\n",
       "  </tbody>\n",
       "</table>\n",
       "<p>15360 rows × 3 columns</p>\n",
       "</div>"
      ],
      "text/plain": [
       "             tmax   tmin  prcp\n",
       "DATE                          \n",
       "1981-01-02  27.11   9.76   0.0\n",
       "1981-02-02  26.15   7.58   0.0\n",
       "1981-03-02  29.38   7.83   0.0\n",
       "1981-04-02  32.19   9.40   0.0\n",
       "1981-05-02  32.01  14.85   0.0\n",
       "...           ...    ...   ...\n",
       "2023-02-16  31.00  12.00   0.0\n",
       "2023-02-17  31.00  14.00   0.0\n",
       "2023-02-18  30.00  13.00   0.0\n",
       "2023-02-19  33.00  13.00   0.0\n",
       "2023-02-20  37.00  17.00   0.0\n",
       "\n",
       "[15360 rows x 3 columns]"
      ]
     },
     "execution_count": 22,
     "metadata": {},
     "output_type": "execute_result"
    }
   ],
   "source": [
    "weather"
   ]
  },
  {
   "cell_type": "code",
   "execution_count": 23,
   "id": "2475947e-9d4d-4768-9e66-4c1060f7c577",
   "metadata": {},
   "outputs": [],
   "source": [
    "weather[\"target\"] = weather.shift(-1)[\"tmax\"]"
   ]
  },
  {
   "cell_type": "code",
   "execution_count": 24,
   "id": "bc95a53f-e6ba-402f-be68-f6291dee8135",
   "metadata": {},
   "outputs": [
    {
     "data": {
      "text/html": [
       "<div>\n",
       "<style scoped>\n",
       "    .dataframe tbody tr th:only-of-type {\n",
       "        vertical-align: middle;\n",
       "    }\n",
       "\n",
       "    .dataframe tbody tr th {\n",
       "        vertical-align: top;\n",
       "    }\n",
       "\n",
       "    .dataframe thead th {\n",
       "        text-align: right;\n",
       "    }\n",
       "</style>\n",
       "<table border=\"1\" class=\"dataframe\">\n",
       "  <thead>\n",
       "    <tr style=\"text-align: right;\">\n",
       "      <th></th>\n",
       "      <th>tmax</th>\n",
       "      <th>tmin</th>\n",
       "      <th>prcp</th>\n",
       "      <th>target</th>\n",
       "    </tr>\n",
       "    <tr>\n",
       "      <th>DATE</th>\n",
       "      <th></th>\n",
       "      <th></th>\n",
       "      <th></th>\n",
       "      <th></th>\n",
       "    </tr>\n",
       "  </thead>\n",
       "  <tbody>\n",
       "    <tr>\n",
       "      <th>1981-01-02</th>\n",
       "      <td>27.11</td>\n",
       "      <td>9.76</td>\n",
       "      <td>0.0</td>\n",
       "      <td>26.15</td>\n",
       "    </tr>\n",
       "    <tr>\n",
       "      <th>1981-02-02</th>\n",
       "      <td>26.15</td>\n",
       "      <td>7.58</td>\n",
       "      <td>0.0</td>\n",
       "      <td>29.38</td>\n",
       "    </tr>\n",
       "    <tr>\n",
       "      <th>1981-03-02</th>\n",
       "      <td>29.38</td>\n",
       "      <td>7.83</td>\n",
       "      <td>0.0</td>\n",
       "      <td>32.19</td>\n",
       "    </tr>\n",
       "    <tr>\n",
       "      <th>1981-04-02</th>\n",
       "      <td>32.19</td>\n",
       "      <td>9.40</td>\n",
       "      <td>0.0</td>\n",
       "      <td>32.01</td>\n",
       "    </tr>\n",
       "    <tr>\n",
       "      <th>1981-05-02</th>\n",
       "      <td>32.01</td>\n",
       "      <td>14.85</td>\n",
       "      <td>0.0</td>\n",
       "      <td>31.95</td>\n",
       "    </tr>\n",
       "    <tr>\n",
       "      <th>...</th>\n",
       "      <td>...</td>\n",
       "      <td>...</td>\n",
       "      <td>...</td>\n",
       "      <td>...</td>\n",
       "    </tr>\n",
       "    <tr>\n",
       "      <th>2023-02-16</th>\n",
       "      <td>31.00</td>\n",
       "      <td>12.00</td>\n",
       "      <td>0.0</td>\n",
       "      <td>31.00</td>\n",
       "    </tr>\n",
       "    <tr>\n",
       "      <th>2023-02-17</th>\n",
       "      <td>31.00</td>\n",
       "      <td>14.00</td>\n",
       "      <td>0.0</td>\n",
       "      <td>30.00</td>\n",
       "    </tr>\n",
       "    <tr>\n",
       "      <th>2023-02-18</th>\n",
       "      <td>30.00</td>\n",
       "      <td>13.00</td>\n",
       "      <td>0.0</td>\n",
       "      <td>33.00</td>\n",
       "    </tr>\n",
       "    <tr>\n",
       "      <th>2023-02-19</th>\n",
       "      <td>33.00</td>\n",
       "      <td>13.00</td>\n",
       "      <td>0.0</td>\n",
       "      <td>37.00</td>\n",
       "    </tr>\n",
       "    <tr>\n",
       "      <th>2023-02-20</th>\n",
       "      <td>37.00</td>\n",
       "      <td>17.00</td>\n",
       "      <td>0.0</td>\n",
       "      <td>NaN</td>\n",
       "    </tr>\n",
       "  </tbody>\n",
       "</table>\n",
       "<p>15360 rows × 4 columns</p>\n",
       "</div>"
      ],
      "text/plain": [
       "             tmax   tmin  prcp  target\n",
       "DATE                                  \n",
       "1981-01-02  27.11   9.76   0.0   26.15\n",
       "1981-02-02  26.15   7.58   0.0   29.38\n",
       "1981-03-02  29.38   7.83   0.0   32.19\n",
       "1981-04-02  32.19   9.40   0.0   32.01\n",
       "1981-05-02  32.01  14.85   0.0   31.95\n",
       "...           ...    ...   ...     ...\n",
       "2023-02-16  31.00  12.00   0.0   31.00\n",
       "2023-02-17  31.00  14.00   0.0   30.00\n",
       "2023-02-18  30.00  13.00   0.0   33.00\n",
       "2023-02-19  33.00  13.00   0.0   37.00\n",
       "2023-02-20  37.00  17.00   0.0     NaN\n",
       "\n",
       "[15360 rows x 4 columns]"
      ]
     },
     "execution_count": 24,
     "metadata": {},
     "output_type": "execute_result"
    }
   ],
   "source": [
    "weather"
   ]
  },
  {
   "cell_type": "code",
   "execution_count": 25,
   "id": "22299dd1-5346-46b4-822b-6092bc81e4bd",
   "metadata": {},
   "outputs": [],
   "source": [
    "weather = weather.ffill()"
   ]
  },
  {
   "cell_type": "code",
   "execution_count": 26,
   "id": "b97fdd56-aceb-4412-beaa-d03e6c3a8b27",
   "metadata": {},
   "outputs": [
    {
     "data": {
      "text/html": [
       "<div>\n",
       "<style scoped>\n",
       "    .dataframe tbody tr th:only-of-type {\n",
       "        vertical-align: middle;\n",
       "    }\n",
       "\n",
       "    .dataframe tbody tr th {\n",
       "        vertical-align: top;\n",
       "    }\n",
       "\n",
       "    .dataframe thead th {\n",
       "        text-align: right;\n",
       "    }\n",
       "</style>\n",
       "<table border=\"1\" class=\"dataframe\">\n",
       "  <thead>\n",
       "    <tr style=\"text-align: right;\">\n",
       "      <th></th>\n",
       "      <th>tmax</th>\n",
       "      <th>tmin</th>\n",
       "      <th>prcp</th>\n",
       "      <th>target</th>\n",
       "    </tr>\n",
       "    <tr>\n",
       "      <th>DATE</th>\n",
       "      <th></th>\n",
       "      <th></th>\n",
       "      <th></th>\n",
       "      <th></th>\n",
       "    </tr>\n",
       "  </thead>\n",
       "  <tbody>\n",
       "    <tr>\n",
       "      <th>1981-01-02</th>\n",
       "      <td>27.11</td>\n",
       "      <td>9.76</td>\n",
       "      <td>0.0</td>\n",
       "      <td>26.15</td>\n",
       "    </tr>\n",
       "    <tr>\n",
       "      <th>1981-02-02</th>\n",
       "      <td>26.15</td>\n",
       "      <td>7.58</td>\n",
       "      <td>0.0</td>\n",
       "      <td>29.38</td>\n",
       "    </tr>\n",
       "    <tr>\n",
       "      <th>1981-03-02</th>\n",
       "      <td>29.38</td>\n",
       "      <td>7.83</td>\n",
       "      <td>0.0</td>\n",
       "      <td>32.19</td>\n",
       "    </tr>\n",
       "    <tr>\n",
       "      <th>1981-04-02</th>\n",
       "      <td>32.19</td>\n",
       "      <td>9.40</td>\n",
       "      <td>0.0</td>\n",
       "      <td>32.01</td>\n",
       "    </tr>\n",
       "    <tr>\n",
       "      <th>1981-05-02</th>\n",
       "      <td>32.01</td>\n",
       "      <td>14.85</td>\n",
       "      <td>0.0</td>\n",
       "      <td>31.95</td>\n",
       "    </tr>\n",
       "    <tr>\n",
       "      <th>...</th>\n",
       "      <td>...</td>\n",
       "      <td>...</td>\n",
       "      <td>...</td>\n",
       "      <td>...</td>\n",
       "    </tr>\n",
       "    <tr>\n",
       "      <th>2023-02-16</th>\n",
       "      <td>31.00</td>\n",
       "      <td>12.00</td>\n",
       "      <td>0.0</td>\n",
       "      <td>31.00</td>\n",
       "    </tr>\n",
       "    <tr>\n",
       "      <th>2023-02-17</th>\n",
       "      <td>31.00</td>\n",
       "      <td>14.00</td>\n",
       "      <td>0.0</td>\n",
       "      <td>30.00</td>\n",
       "    </tr>\n",
       "    <tr>\n",
       "      <th>2023-02-18</th>\n",
       "      <td>30.00</td>\n",
       "      <td>13.00</td>\n",
       "      <td>0.0</td>\n",
       "      <td>33.00</td>\n",
       "    </tr>\n",
       "    <tr>\n",
       "      <th>2023-02-19</th>\n",
       "      <td>33.00</td>\n",
       "      <td>13.00</td>\n",
       "      <td>0.0</td>\n",
       "      <td>37.00</td>\n",
       "    </tr>\n",
       "    <tr>\n",
       "      <th>2023-02-20</th>\n",
       "      <td>37.00</td>\n",
       "      <td>17.00</td>\n",
       "      <td>0.0</td>\n",
       "      <td>37.00</td>\n",
       "    </tr>\n",
       "  </tbody>\n",
       "</table>\n",
       "<p>15360 rows × 4 columns</p>\n",
       "</div>"
      ],
      "text/plain": [
       "             tmax   tmin  prcp  target\n",
       "DATE                                  \n",
       "1981-01-02  27.11   9.76   0.0   26.15\n",
       "1981-02-02  26.15   7.58   0.0   29.38\n",
       "1981-03-02  29.38   7.83   0.0   32.19\n",
       "1981-04-02  32.19   9.40   0.0   32.01\n",
       "1981-05-02  32.01  14.85   0.0   31.95\n",
       "...           ...    ...   ...     ...\n",
       "2023-02-16  31.00  12.00   0.0   31.00\n",
       "2023-02-17  31.00  14.00   0.0   30.00\n",
       "2023-02-18  30.00  13.00   0.0   33.00\n",
       "2023-02-19  33.00  13.00   0.0   37.00\n",
       "2023-02-20  37.00  17.00   0.0   37.00\n",
       "\n",
       "[15360 rows x 4 columns]"
      ]
     },
     "execution_count": 26,
     "metadata": {},
     "output_type": "execute_result"
    }
   ],
   "source": [
    "weather"
   ]
  },
  {
   "cell_type": "code",
   "execution_count": 27,
   "id": "8ad6daae-960d-420f-bc76-e5c9d6ec0044",
   "metadata": {},
   "outputs": [],
   "source": [
    "from sklearn.linear_model import Ridge\n",
    "rr= Ridge(alpha=.1)"
   ]
  },
  {
   "cell_type": "code",
   "execution_count": 28,
   "id": "53cd4773-dbca-4aa4-94c9-be30e06587cb",
   "metadata": {},
   "outputs": [],
   "source": [
    "predictors = weather.columns[~weather.columns.isin([\"target\"])]\n",
    "\n"
   ]
  },
  {
   "cell_type": "code",
   "execution_count": 29,
   "id": "2e2e113c-a97f-4dd2-8b08-904ecaebd78f",
   "metadata": {},
   "outputs": [
    {
     "data": {
      "text/plain": [
       "Index(['tmax', 'tmin', 'prcp'], dtype='object')"
      ]
     },
     "execution_count": 29,
     "metadata": {},
     "output_type": "execute_result"
    }
   ],
   "source": [
    "predictors"
   ]
  },
  {
   "cell_type": "code",
   "execution_count": 30,
   "id": "8d8b6fc8-05fa-492b-8b5c-4c1b5677c083",
   "metadata": {},
   "outputs": [],
   "source": [
    "def backtest(weather, model, predictors, start=3650, step=90):\n",
    "    all_predictions= []\n",
    "    \n",
    "    for i in range(start, weather.shape[0], step):\n",
    "        train= weather.iloc[:i,:]\n",
    "        test= weather.iloc[i:(i+step), :]\n",
    "        \n",
    "        model.fit(train[predictors], train[\"target\"])\n",
    "        \n",
    "        preds = model.predict(test[predictors])\n",
    "        \n",
    "        preds= pd.Series(preds, index=test.index)\n",
    "        \n",
    "        combined = pd.concat([test[\"target\"], preds], axis=1)\n",
    "        \n",
    "        combined.columns = [\"actual\", \"prediction\"]\n",
    "        combined[\"diff\"] = (combined[\"prediction\"] - combined[\"actual\"]).abs()\n",
    "        \n",
    "        all_predictions.append(combined)\n",
    "    return pd.concat(all_predictions)\n",
    "                                     "
   ]
  },
  {
   "cell_type": "code",
   "execution_count": 31,
   "id": "095bfe00-d946-4f24-8166-d48fdab56f9d",
   "metadata": {},
   "outputs": [],
   "source": [
    "predictions = backtest(weather, rr , predictors)"
   ]
  },
  {
   "cell_type": "code",
   "execution_count": 32,
   "id": "20cff8c6-c359-4418-b578-8e9dc5f4000d",
   "metadata": {},
   "outputs": [
    {
     "data": {
      "text/html": [
       "<div>\n",
       "<style scoped>\n",
       "    .dataframe tbody tr th:only-of-type {\n",
       "        vertical-align: middle;\n",
       "    }\n",
       "\n",
       "    .dataframe tbody tr th {\n",
       "        vertical-align: top;\n",
       "    }\n",
       "\n",
       "    .dataframe thead th {\n",
       "        text-align: right;\n",
       "    }\n",
       "</style>\n",
       "<table border=\"1\" class=\"dataframe\">\n",
       "  <thead>\n",
       "    <tr style=\"text-align: right;\">\n",
       "      <th></th>\n",
       "      <th>actual</th>\n",
       "      <th>prediction</th>\n",
       "      <th>diff</th>\n",
       "    </tr>\n",
       "    <tr>\n",
       "      <th>DATE</th>\n",
       "      <th></th>\n",
       "      <th></th>\n",
       "      <th></th>\n",
       "    </tr>\n",
       "  </thead>\n",
       "  <tbody>\n",
       "    <tr>\n",
       "      <th>1991-01-30</th>\n",
       "      <td>33.26</td>\n",
       "      <td>33.643309</td>\n",
       "      <td>0.383309</td>\n",
       "    </tr>\n",
       "    <tr>\n",
       "      <th>1991-01-31</th>\n",
       "      <td>32.13</td>\n",
       "      <td>33.273450</td>\n",
       "      <td>1.143450</td>\n",
       "    </tr>\n",
       "    <tr>\n",
       "      <th>1991-01-02</th>\n",
       "      <td>29.98</td>\n",
       "      <td>32.185730</td>\n",
       "      <td>2.205730</td>\n",
       "    </tr>\n",
       "    <tr>\n",
       "      <th>1991-02-02</th>\n",
       "      <td>30.68</td>\n",
       "      <td>30.113550</td>\n",
       "      <td>0.566450</td>\n",
       "    </tr>\n",
       "    <tr>\n",
       "      <th>1991-03-02</th>\n",
       "      <td>30.53</td>\n",
       "      <td>30.795332</td>\n",
       "      <td>0.265332</td>\n",
       "    </tr>\n",
       "    <tr>\n",
       "      <th>...</th>\n",
       "      <td>...</td>\n",
       "      <td>...</td>\n",
       "      <td>...</td>\n",
       "    </tr>\n",
       "    <tr>\n",
       "      <th>2023-02-16</th>\n",
       "      <td>31.00</td>\n",
       "      <td>31.092753</td>\n",
       "      <td>0.092753</td>\n",
       "    </tr>\n",
       "    <tr>\n",
       "      <th>2023-02-17</th>\n",
       "      <td>30.00</td>\n",
       "      <td>31.074779</td>\n",
       "      <td>1.074779</td>\n",
       "    </tr>\n",
       "    <tr>\n",
       "      <th>2023-02-18</th>\n",
       "      <td>33.00</td>\n",
       "      <td>30.109346</td>\n",
       "      <td>2.890654</td>\n",
       "    </tr>\n",
       "    <tr>\n",
       "      <th>2023-02-19</th>\n",
       "      <td>37.00</td>\n",
       "      <td>33.032605</td>\n",
       "      <td>3.967395</td>\n",
       "    </tr>\n",
       "    <tr>\n",
       "      <th>2023-02-20</th>\n",
       "      <td>37.00</td>\n",
       "      <td>36.894335</td>\n",
       "      <td>0.105665</td>\n",
       "    </tr>\n",
       "  </tbody>\n",
       "</table>\n",
       "<p>11710 rows × 3 columns</p>\n",
       "</div>"
      ],
      "text/plain": [
       "            actual  prediction      diff\n",
       "DATE                                    \n",
       "1991-01-30   33.26   33.643309  0.383309\n",
       "1991-01-31   32.13   33.273450  1.143450\n",
       "1991-01-02   29.98   32.185730  2.205730\n",
       "1991-02-02   30.68   30.113550  0.566450\n",
       "1991-03-02   30.53   30.795332  0.265332\n",
       "...            ...         ...       ...\n",
       "2023-02-16   31.00   31.092753  0.092753\n",
       "2023-02-17   30.00   31.074779  1.074779\n",
       "2023-02-18   33.00   30.109346  2.890654\n",
       "2023-02-19   37.00   33.032605  3.967395\n",
       "2023-02-20   37.00   36.894335  0.105665\n",
       "\n",
       "[11710 rows x 3 columns]"
      ]
     },
     "execution_count": 32,
     "metadata": {},
     "output_type": "execute_result"
    }
   ],
   "source": [
    "predictions"
   ]
  },
  {
   "cell_type": "code",
   "execution_count": 33,
   "id": "68c92344-c828-4b60-b348-62fe1dd5a7b3",
   "metadata": {},
   "outputs": [
    {
     "data": {
      "text/plain": [
       "0.9980990750655313"
      ]
     },
     "execution_count": 33,
     "metadata": {},
     "output_type": "execute_result"
    }
   ],
   "source": [
    "from sklearn.metrics import mean_absolute_error\n",
    "mean_absolute_error(predictions[\"actual\"], predictions[\"prediction\"])"
   ]
  },
  {
   "cell_type": "code",
   "execution_count": 34,
   "id": "8345477c-b8fc-4cd0-92f8-4ac032da4aed",
   "metadata": {},
   "outputs": [
    {
     "data": {
      "text/html": [
       "<div>\n",
       "<style scoped>\n",
       "    .dataframe tbody tr th:only-of-type {\n",
       "        vertical-align: middle;\n",
       "    }\n",
       "\n",
       "    .dataframe tbody tr th {\n",
       "        vertical-align: top;\n",
       "    }\n",
       "\n",
       "    .dataframe thead th {\n",
       "        text-align: right;\n",
       "    }\n",
       "</style>\n",
       "<table border=\"1\" class=\"dataframe\">\n",
       "  <thead>\n",
       "    <tr style=\"text-align: right;\">\n",
       "      <th></th>\n",
       "      <th>actual</th>\n",
       "      <th>prediction</th>\n",
       "      <th>diff</th>\n",
       "    </tr>\n",
       "    <tr>\n",
       "      <th>DATE</th>\n",
       "      <th></th>\n",
       "      <th></th>\n",
       "      <th></th>\n",
       "    </tr>\n",
       "  </thead>\n",
       "  <tbody>\n",
       "    <tr>\n",
       "      <th>2000-12-30</th>\n",
       "      <td>19.84</td>\n",
       "      <td>30.183368</td>\n",
       "      <td>10.343368</td>\n",
       "    </tr>\n",
       "    <tr>\n",
       "      <th>1999-03-02</th>\n",
       "      <td>18.26</td>\n",
       "      <td>28.467331</td>\n",
       "      <td>10.207331</td>\n",
       "    </tr>\n",
       "    <tr>\n",
       "      <th>2020-03-06</th>\n",
       "      <td>25.55</td>\n",
       "      <td>34.719066</td>\n",
       "      <td>9.169066</td>\n",
       "    </tr>\n",
       "    <tr>\n",
       "      <th>2005-07-03</th>\n",
       "      <td>25.98</td>\n",
       "      <td>35.031652</td>\n",
       "      <td>9.051652</td>\n",
       "    </tr>\n",
       "    <tr>\n",
       "      <th>1992-12-07</th>\n",
       "      <td>29.87</td>\n",
       "      <td>38.897644</td>\n",
       "      <td>9.027644</td>\n",
       "    </tr>\n",
       "    <tr>\n",
       "      <th>...</th>\n",
       "      <td>...</td>\n",
       "      <td>...</td>\n",
       "      <td>...</td>\n",
       "    </tr>\n",
       "    <tr>\n",
       "      <th>1996-08-23</th>\n",
       "      <td>29.97</td>\n",
       "      <td>29.969171</td>\n",
       "      <td>0.000829</td>\n",
       "    </tr>\n",
       "    <tr>\n",
       "      <th>2010-04-16</th>\n",
       "      <td>44.62</td>\n",
       "      <td>44.620683</td>\n",
       "      <td>0.000683</td>\n",
       "    </tr>\n",
       "    <tr>\n",
       "      <th>2020-11-07</th>\n",
       "      <td>31.36</td>\n",
       "      <td>31.360574</td>\n",
       "      <td>0.000574</td>\n",
       "    </tr>\n",
       "    <tr>\n",
       "      <th>2012-10-30</th>\n",
       "      <td>29.81</td>\n",
       "      <td>29.810496</td>\n",
       "      <td>0.000496</td>\n",
       "    </tr>\n",
       "    <tr>\n",
       "      <th>2014-09-13</th>\n",
       "      <td>29.23</td>\n",
       "      <td>29.229697</td>\n",
       "      <td>0.000303</td>\n",
       "    </tr>\n",
       "  </tbody>\n",
       "</table>\n",
       "<p>11710 rows × 3 columns</p>\n",
       "</div>"
      ],
      "text/plain": [
       "            actual  prediction       diff\n",
       "DATE                                     \n",
       "2000-12-30   19.84   30.183368  10.343368\n",
       "1999-03-02   18.26   28.467331  10.207331\n",
       "2020-03-06   25.55   34.719066   9.169066\n",
       "2005-07-03   25.98   35.031652   9.051652\n",
       "1992-12-07   29.87   38.897644   9.027644\n",
       "...            ...         ...        ...\n",
       "1996-08-23   29.97   29.969171   0.000829\n",
       "2010-04-16   44.62   44.620683   0.000683\n",
       "2020-11-07   31.36   31.360574   0.000574\n",
       "2012-10-30   29.81   29.810496   0.000496\n",
       "2014-09-13   29.23   29.229697   0.000303\n",
       "\n",
       "[11710 rows x 3 columns]"
      ]
     },
     "execution_count": 34,
     "metadata": {},
     "output_type": "execute_result"
    }
   ],
   "source": [
    "predictions.sort_values(\"diff\", ascending=False)"
   ]
  },
  {
   "cell_type": "code",
   "execution_count": 35,
   "id": "bb402c28-c60c-4ea0-9b03-58f4b8f9862a",
   "metadata": {},
   "outputs": [
    {
     "data": {
      "text/plain": [
       "1.0     4810\n",
       "0.0     4419\n",
       "2.0     1612\n",
       "3.0      536\n",
       "4.0      202\n",
       "5.0       72\n",
       "6.0       27\n",
       "7.0       15\n",
       "8.0        9\n",
       "9.0        6\n",
       "10.0       2\n",
       "Name: diff, dtype: int64"
      ]
     },
     "execution_count": 35,
     "metadata": {},
     "output_type": "execute_result"
    }
   ],
   "source": [
    "predictions[\"diff\"].round().value_counts()"
   ]
  },
  {
   "cell_type": "code",
   "execution_count": 36,
   "id": "5d12cb77-b565-4b7c-a388-7047f7ec402d",
   "metadata": {},
   "outputs": [
    {
     "data": {
      "text/plain": [
       "<AxesSubplot: xlabel='DATE'>"
      ]
     },
     "execution_count": 36,
     "metadata": {},
     "output_type": "execute_result"
    },
    {
     "data": {
      "image/png": "[encoded data removed]",
      "text/plain": [
       "<Figure size 640x480 with 1 Axes>"
      ]
     },
     "metadata": {},
     "output_type": "display_data"
    }
   ],
   "source": [
    "predictions.plot()"
   ]
  },
  {
   "cell_type": "code",
   "execution_count": 37,
   "id": "717c2de8-000f-455c-b056-ddb1470b4534",
   "metadata": {},
   "outputs": [
    {
     "data": {
      "text/html": [
       "<div>\n",
       "<style scoped>\n",
       "    .dataframe tbody tr th:only-of-type {\n",
       "        vertical-align: middle;\n",
       "    }\n",
       "\n",
       "    .dataframe tbody tr th {\n",
       "        vertical-align: top;\n",
       "    }\n",
       "\n",
       "    .dataframe thead th {\n",
       "        text-align: right;\n",
       "    }\n",
       "</style>\n",
       "<table border=\"1\" class=\"dataframe\">\n",
       "  <thead>\n",
       "    <tr style=\"text-align: right;\">\n",
       "      <th></th>\n",
       "      <th>actual</th>\n",
       "      <th>prediction</th>\n",
       "      <th>diff</th>\n",
       "    </tr>\n",
       "    <tr>\n",
       "      <th>DATE</th>\n",
       "      <th></th>\n",
       "      <th></th>\n",
       "      <th></th>\n",
       "    </tr>\n",
       "  </thead>\n",
       "  <tbody>\n",
       "    <tr>\n",
       "      <th>1991-01-30</th>\n",
       "      <td>33.26</td>\n",
       "      <td>33.643309</td>\n",
       "      <td>0.383309</td>\n",
       "    </tr>\n",
       "    <tr>\n",
       "      <th>1991-01-31</th>\n",
       "      <td>32.13</td>\n",
       "      <td>33.273450</td>\n",
       "      <td>1.143450</td>\n",
       "    </tr>\n",
       "    <tr>\n",
       "      <th>1991-01-02</th>\n",
       "      <td>29.98</td>\n",
       "      <td>32.185730</td>\n",
       "      <td>2.205730</td>\n",
       "    </tr>\n",
       "    <tr>\n",
       "      <th>1991-02-02</th>\n",
       "      <td>30.68</td>\n",
       "      <td>30.113550</td>\n",
       "      <td>0.566450</td>\n",
       "    </tr>\n",
       "    <tr>\n",
       "      <th>1991-03-02</th>\n",
       "      <td>30.53</td>\n",
       "      <td>30.795332</td>\n",
       "      <td>0.265332</td>\n",
       "    </tr>\n",
       "    <tr>\n",
       "      <th>...</th>\n",
       "      <td>...</td>\n",
       "      <td>...</td>\n",
       "      <td>...</td>\n",
       "    </tr>\n",
       "    <tr>\n",
       "      <th>2023-02-16</th>\n",
       "      <td>31.00</td>\n",
       "      <td>31.092753</td>\n",
       "      <td>0.092753</td>\n",
       "    </tr>\n",
       "    <tr>\n",
       "      <th>2023-02-17</th>\n",
       "      <td>30.00</td>\n",
       "      <td>31.074779</td>\n",
       "      <td>1.074779</td>\n",
       "    </tr>\n",
       "    <tr>\n",
       "      <th>2023-02-18</th>\n",
       "      <td>33.00</td>\n",
       "      <td>30.109346</td>\n",
       "      <td>2.890654</td>\n",
       "    </tr>\n",
       "    <tr>\n",
       "      <th>2023-02-19</th>\n",
       "      <td>37.00</td>\n",
       "      <td>33.032605</td>\n",
       "      <td>3.967395</td>\n",
       "    </tr>\n",
       "    <tr>\n",
       "      <th>2023-02-20</th>\n",
       "      <td>37.00</td>\n",
       "      <td>36.894335</td>\n",
       "      <td>0.105665</td>\n",
       "    </tr>\n",
       "  </tbody>\n",
       "</table>\n",
       "<p>11710 rows × 3 columns</p>\n",
       "</div>"
      ],
      "text/plain": [
       "            actual  prediction      diff\n",
       "DATE                                    \n",
       "1991-01-30   33.26   33.643309  0.383309\n",
       "1991-01-31   32.13   33.273450  1.143450\n",
       "1991-01-02   29.98   32.185730  2.205730\n",
       "1991-02-02   30.68   30.113550  0.566450\n",
       "1991-03-02   30.53   30.795332  0.265332\n",
       "...            ...         ...       ...\n",
       "2023-02-16   31.00   31.092753  0.092753\n",
       "2023-02-17   30.00   31.074779  1.074779\n",
       "2023-02-18   33.00   30.109346  2.890654\n",
       "2023-02-19   37.00   33.032605  3.967395\n",
       "2023-02-20   37.00   36.894335  0.105665\n",
       "\n",
       "[11710 rows x 3 columns]"
      ]
     },
     "execution_count": 37,
     "metadata": {},
     "output_type": "execute_result"
    }
   ],
   "source": [
    "predictions"
   ]
  },
  {
   "cell_type": "code",
   "execution_count": 38,
   "id": "13899a5f-30ce-48e6-8fbc-69ed279a51e6",
   "metadata": {},
   "outputs": [],
   "source": [
    "import pickle\n",
    "filename = 'model.pkl'\n",
    "with open(filename, 'wb') as file:\n",
    "    pickle.dump(rr, file)\n"
   ]
  },
  {
   "cell_type": "code",
   "execution_count": null,
   "id": "090c06ab-daa8-4b98-874d-11759a0d324f",
   "metadata": {},
   "outputs": [],
   "source": []
  },
  {
   "cell_type": "code",
   "execution_count": null,
   "id": "aa2b9f80-9240-4dd8-bfca-cc2345340fbc",
   "metadata": {},
   "outputs": [],
   "source": []
  }
 ],
 "metadata": {
  "kernelspec": {
   "display_name": "Python 3 (ipykernel)",
   "language": "python",
   "name": "python3"
  },
  "language_info": {
   "codemirror_mode": {
    "name": "ipython",
    "version": 3
   },
   "file_extension": ".py",
   "mimetype": "text/x-python",
   "name": "python",
   "nbconvert_exporter": "python",
   "pygments_lexer": "ipython3",
   "version": "3.11.1"
  }
 },
 "nbformat": 4,
 "nbformat_minor": 5
}
